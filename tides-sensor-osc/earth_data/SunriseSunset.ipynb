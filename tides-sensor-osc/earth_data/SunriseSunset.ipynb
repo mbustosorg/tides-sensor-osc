{
 "cells": [
  {
   "cell_type": "markdown",
   "metadata": {},
   "source": [
    "# Sunrise and Sunset\n",
    "\n",
    "This notebook takes the data from:\n",
    "\n",
    "```\n",
    "https://aa.usno.navy.mil/data/docs/RS_OneYear.php\n",
    "```\n",
    "\n",
    "and generates a csv file in ISO format for use by the system."
   ]
  },
  {
   "cell_type": "code",
   "execution_count": 11,
   "metadata": {},
   "outputs": [],
   "source": [
    "from datetime import datetime, timedelta\n",
    "import pandas as pd\n",
    "import matplotlib.pyplot as plt\n",
    "from datetime import datetime\n",
    "\n",
    "%matplotlib notebook"
   ]
  },
  {
   "cell_type": "code",
   "execution_count": null,
   "metadata": {},
   "outputs": [],
   "source": [
    "records = {1: [], 2: [], 3: [], 4: [], 5: [], 6: [], 7: [], 8: [], 9: [], 10: [], 11: [], 12: []}\n",
    "\n",
    "def updateRow(line: str):\n",
    "    record = line.replace('             ', '  xxxx xxxx  ') \\\n",
    "                 .replace('  ',' ') \\\n",
    "                 .replace('\\n','') \\\n",
    "                 .split(' ') \n",
    "    if len(record) == 25 and record[0].isnumeric():\n",
    "        for i in range(0, 12):\n",
    "            if record[i * 2 + 1] != 'xxxx':\n",
    "                records[i + 1].append((record[i * 2 + 1], record[i * 2 + 2]))\n",
    "\n",
    "def hourMinute(record):\n",
    "    minute = int(record[-2:])\n",
    "    hour = int(record[:-2])\n",
    "    return hour, minute\n",
    "        \n",
    "with open('sunriseSunset.txt') as f:\n",
    "    line = f.readline()\n",
    "    while line:\n",
    "        updateRow(line)\n",
    "        line = f.readline()\n",
    "        \n",
    "with open('sunriseSunset.csv', 'w') as f:\n",
    "    f.write('sunrise,sunset in GMT\\n')\n",
    "    for month, time in records.items():\n",
    "        for i in range(0, len(time)):\n",
    "            upHour, upMinute = hourMinute(time[i][0])\n",
    "            downHour, downMinute = hourMinute(time[i][1])\n",
    "            upDate = datetime(2000, month, i + 1, upHour, upMinute) - timedelta(hours=-8)\n",
    "            downDate = datetime(2000, month, i + 1, downHour, downMinute) - timedelta(hours=-8)\n",
    "            f.write(upDate.isoformat() + ',' + downDate.isoformat() + '\\n')\n",
    "    "
   ]
  },
  {
   "cell_type": "code",
   "execution_count": 23,
   "metadata": {},
   "outputs": [],
   "source": [
    "dates = pd.read_csv('sunriseSunset.csv', parse_dates=[0, 1], infer_datetime_format=True)"
   ]
  },
  {
   "cell_type": "code",
   "execution_count": 33,
   "metadata": {},
   "outputs": [
    {
     "data": {
      "text/plain": [
       "[<matplotlib.lines.Line2D at 0x11a06fda0>,\n",
       " <matplotlib.lines.Line2D at 0x11a06feb8>]"
      ]
     },
     "execution_count": 33,
     "metadata": {},
     "output_type": "execute_result"
    },
    {
     "data": {
      "image/png": "[encoded data removed]",
      "text/plain": [
       "<Figure size 432x288 with 1 Axes>"
      ]
     },
     "metadata": {
      "needs_background": "light"
     },
     "output_type": "display_data"
    }
   ],
   "source": [
    "dates['sunriseTimes'] = dates['sunrise'].map(lambda x: x.time())\n",
    "dates['sunsetTimes'] = dates['sunset'].map(lambda x: x.time())\n",
    "plt.plot(dates[['sunriseTimes','sunsetTimes']])"
   ]
  },
  {
   "cell_type": "code",
   "execution_count": null,
   "metadata": {},
   "outputs": [],
   "source": []
  }
 ],
 "metadata": {
  "kernelspec": {
   "display_name": "Python 3",
   "language": "python",
   "name": "python3"
  },
  "language_info": {
   "codemirror_mode": {
    "name": "ipython",
    "version": 3
   },
   "file_extension": ".py",
   "mimetype": "text/x-python",
   "name": "python",
   "nbconvert_exporter": "python",
   "pygments_lexer": "ipython3",
   "version": "3.7.4"
  }
 },
 "nbformat": 4,
 "nbformat_minor": 2
}
