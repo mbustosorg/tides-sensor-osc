{
 "cells": [
  {
   "cell_type": "markdown",
   "metadata": {},
   "source": [
    "# Tide Level Predictions\n",
    "\n",
    "This notebook uses the NOAA CO-OPS API to retreive the tide levels for the Richmond, CA station.  \n",
    "\n",
    "```\n",
    "https://tidesandcurrents.noaa.gov/api/\n",
    "```"
   ]
  },
  {
   "cell_type": "code",
   "execution_count": 2,
   "metadata": {},
   "outputs": [],
   "source": [
    "import requests\n",
    "import json\n",
    "import pandas as pd\n",
    "import matplotlib.pyplot as plt\n",
    "from datetime import datetime\n",
    "\n",
    "%matplotlib notebook"
   ]
  },
  {
   "cell_type": "markdown",
   "metadata": {},
   "source": [
    "## Retrieve Data"
   ]
  },
  {
   "cell_type": "code",
   "execution_count": 3,
   "metadata": {},
   "outputs": [
    {
     "name": "stdout",
     "output_type": "stream",
     "text": [
      "Retrieving data for 2018\n",
      "Retrieving data for 2019\n",
      "Retrieving data for 2020\n",
      "Retrieving data for 2021\n",
      "Retrieving data for 2022\n",
      "Retrieving data for 2023\n",
      "Retrieving data for 2024\n",
      "Retrieving data for 2025\n",
      "Retrieving data for 2026\n",
      "Retrieving data for 2027\n",
      "Retrieving data for 2028\n",
      "Retrieving data for 2029\n"
     ]
    }
   ],
   "source": [
    "predictions = []\n",
    "payload = {\n",
    "    'begin_date': '',\n",
    "    'end_date': '',\n",
    "    'station': '9414863',\n",
    "    'product': 'predictions',\n",
    "    'datum': 'mllw',\n",
    "    'units': 'english',\n",
    "    'time_zone': 'gmt',\n",
    "    'application': 'web_services',\n",
    "    'format': 'json'\n",
    "}\n",
    "\n",
    "for i in range(2018, 2030):\n",
    "    print('Retrieving data for', i)\n",
    "    payload['begin_date'] = str(i) + '0101'\n",
    "    payload['end_date'] = str(i) + '0630'\n",
    "    r = requests.get('https://tidesandcurrents.noaa.gov/api/datagetter', params=payload)\n",
    "    predictions.extend(json.loads(r.text)['predictions'])\n",
    "    payload['begin_date'] = str(i) + '0701'\n",
    "    payload['end_date'] = str(i) + '1231'\n",
    "    r = requests.get('https://tidesandcurrents.noaa.gov/api/datagetter', params=payload)\n",
    "    predictions.extend(json.loads(r.text)['predictions'])"
   ]
  },
  {
   "cell_type": "code",
   "execution_count": 4,
   "metadata": {},
   "outputs": [],
   "source": [
    "values = list(map(lambda x: float(x['v']), predictions))\n",
    "dates = list(map(lambda x: datetime.strptime(\n",
    "    x['t'], '%Y-%m-%d %H:%M'), predictions))"
   ]
  },
  {
   "cell_type": "markdown",
   "metadata": {},
   "source": [
    "## Plot Results"
   ]
  },
  {
   "cell_type": "code",
   "execution_count": 22,
   "metadata": {},
   "outputs": [
    {
     "data": {
      "image/png": "[encoded data removed]",
      "text/plain": [
       "<Figure size 432x288 with 1 Axes>"
      ]
     },
     "metadata": {
      "needs_background": "light"
     },
     "output_type": "display_data"
    }
   ],
   "source": [
    "plt.plot(dates, values)\n",
    "plt.xticks(rotation=45)\n",
    "plt.show()"
   ]
  },
  {
   "cell_type": "markdown",
   "metadata": {},
   "source": [
    "## Save Observations"
   ]
  },
  {
   "cell_type": "code",
   "execution_count": 22,
   "metadata": {
    "collapsed": true
   },
   "outputs": [],
   "source": [
    "dataset = pd.DataFrame({'DateTime': dates, 'Height': values})\n",
    "dataset.to_csv('tidelevels_9414863.csv', index=False)"
   ]
  }
 ],
 "metadata": {
  "kernelspec": {
   "display_name": "Python 3",
   "language": "python",
   "name": "python3"
  },
  "language_info": {
   "codemirror_mode": {
    "name": "ipython",
    "version": 3
   },
   "file_extension": ".py",
   "mimetype": "text/x-python",
   "name": "python",
   "nbconvert_exporter": "python",
   "pygments_lexer": "ipython3",
   "version": "3.7.1"
  }
 },
 "nbformat": 4,
 "nbformat_minor": 2
}
