{
 "cells": [
  {
   "cell_type": "code",
   "execution_count": 51,
   "metadata": {},
   "outputs": [],
   "source": [
    "import datetime\n",
    "\n",
    "records = {1: [], 2: [], 3: [], 4: [], 5: [], 6: [], 7: [], 8: [], 9: [], 10: [], 11: [], 12: []}\n",
    "\n",
    "def updateRow(line: str):\n",
    "    record = line.replace('             ', '  xxxx xxxx  ') \\\n",
    "                 .replace('  ',' ') \\\n",
    "                 .replace('\\n','') \\\n",
    "                 .split(' ') \n",
    "    if len(record) == 25 and record[0].isnumeric():\n",
    "        for i in range(0, 12):\n",
    "            if record[i * 2 + 1] != 'xxxx':\n",
    "                records[i + 1].append((record[i * 2 + 1], record[i * 2 + 2]))\n",
    "\n",
    "def hourMinute(record):\n",
    "    minute = int(record[-2:])\n",
    "    hour = int(record[:-2])\n",
    "    return hour, minute\n",
    "        \n",
    "with open('sunriseSunset.txt') as f:\n",
    "    line = f.readline()\n",
    "    while line:\n",
    "        updateRow(line)\n",
    "        line = f.readline()\n",
    "        \n",
    "with open('sunriseSunset.csv', 'w') as f:\n",
    "    f.write('sunrise,sunset\\n')\n",
    "    for month, time in records.items():\n",
    "        for i in range(0, len(time)):\n",
    "            upHour, upMinute = hourMinute(time[i][0])\n",
    "            downHour, downMinute = hourMinute(time[i][1])\n",
    "            upDate = datetime.datetime(2000, month, i + 1, upHour, upMinute)\n",
    "            downDate = datetime.datetime(2000, month, i + 1, downHour, downMinute)\n",
    "            f.write(upDate.isoformat() + ',' + downDate.isoformat() + '\\n')\n",
    "    "
   ]
  },
  {
   "cell_type": "code",
   "execution_count": null,
   "metadata": {},
   "outputs": [],
   "source": []
  }
 ],
 "metadata": {
  "kernelspec": {
   "display_name": "Python 3",
   "language": "python",
   "name": "python3"
  },
  "language_info": {
   "codemirror_mode": {
    "name": "ipython",
    "version": 3
   },
   "file_extension": ".py",
   "mimetype": "text/x-python",
   "name": "python",
   "nbconvert_exporter": "python",
   "pygments_lexer": "ipython3",
   "version": "3.7.1"
  }
 },
 "nbformat": 4,
 "nbformat_minor": 2
}
